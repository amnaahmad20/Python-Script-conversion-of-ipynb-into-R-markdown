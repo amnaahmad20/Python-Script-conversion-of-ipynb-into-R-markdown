{
  "nbformat": 4,
  "nbformat_minor": 0,
  "metadata": {
    "colab": {
      "provenance": [],
      "authorship_tag": "ABX9TyPkjNGr6kPTLEYlynYLUq9p"
    },
    "kernelspec": {
      "name": "python3",
      "display_name": "Python 3"
    },
    "language_info": {
      "name": "python"
    }
  },
  "cells": [
    {
      "cell_type": "code",
      "execution_count": null,
      "metadata": {
        "id": "hDIUVy7xyPqD"
      },
      "outputs": [],
      "source": [
        "pip install nbconvert jupytext\n"
      ]
    },
    {
      "cell_type": "code",
      "source": [
        "import jupytext\n",
        "\n",
        "def convert_ipynb_to_rmd(input_file, output_file):\n",
        "    # Read the IPYNB file\n",
        "    notebook = jupytext.read(input_file)\n",
        "\n",
        "    # Convert and save as R Markdown\n",
        "    jupytext.write(notebook, output_file, fmt='Rmd')\n",
        "\n",
        "# Specify your file names\n",
        "input_file = '/content/R_analysis.ipynb'  # Replace with your file path\n",
        "output_file = 'R_analysis.Rmd'  # Desired output file path\n",
        "\n",
        "# Perform the conversion\n",
        "convert_ipynb_to_rmd(input_file, output_file)\n"
      ],
      "metadata": {
        "id": "EkpBVaIWyZNm"
      },
      "execution_count": null,
      "outputs": []
    }
  ]
}